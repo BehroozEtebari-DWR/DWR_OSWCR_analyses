{
 "cells": [
  {
   "cell_type": "code",
   "execution_count": 1,
   "id": "2cf0be0d",
   "metadata": {},
   "outputs": [
    {
     "ename": "ModuleNotFoundError",
     "evalue": "No module named 'pyvista'",
     "output_type": "error",
     "traceback": [
      "\u001b[1;31m---------------------------------------------------------------------------\u001b[0m",
      "\u001b[1;31mModuleNotFoundError\u001b[0m                       Traceback (most recent call last)",
      "Cell \u001b[1;32mIn[1], line 5\u001b[0m\n\u001b[0;32m      3\u001b[0m \u001b[38;5;28;01mimport\u001b[39;00m \u001b[38;5;21;01mmatplotlib\u001b[39;00m\u001b[38;5;21;01m.\u001b[39;00m\u001b[38;5;21;01mpyplot\u001b[39;00m \u001b[38;5;28;01mas\u001b[39;00m \u001b[38;5;21;01mplt\u001b[39;00m\n\u001b[0;32m      4\u001b[0m \u001b[38;5;28;01mfrom\u001b[39;00m \u001b[38;5;21;01mmpl_toolkits\u001b[39;00m\u001b[38;5;21;01m.\u001b[39;00m\u001b[38;5;21;01mmplot3d\u001b[39;00m \u001b[38;5;28;01mimport\u001b[39;00m Axes3D\n\u001b[1;32m----> 5\u001b[0m \u001b[38;5;28;01mimport\u001b[39;00m \u001b[38;5;21;01mpyvista\u001b[39;00m \u001b[38;5;28;01mas\u001b[39;00m \u001b[38;5;21;01mpv\u001b[39;00m\n",
      "\u001b[1;31mModuleNotFoundError\u001b[0m: No module named 'pyvista'"
     ]
    }
   ],
   "source": [
    "import numpy as np\n",
    "import pandas as pd\n",
    "import matplotlib.pyplot as plt\n",
    "from mpl_toolkits.mplot3d import Axes3D\n",
    "import pyvista as pv"
   ]
  },
  {
   "cell_type": "code",
   "execution_count": null,
   "id": "96b03fe7-a52a-451f-96d2-5717c82496de",
   "metadata": {},
   "outputs": [],
   "source": [
    "# Replace 'full/path/to/your/merged_df.csv' with the actual full path to your CSV file\n",
    "file_path = r'C:\\Users\\betebari\\Documents\\C2VSim_Texture\\AEM supporting data\\merged_file.csv'\n",
    "\n",
    "# Read the CSV file into a pandas DataFrame\n",
    "merged_df = pd.read_csv(file_path)"
   ]
  },
  {
   "cell_type": "code",
   "execution_count": null,
   "id": "02f2908c",
   "metadata": {},
   "outputs": [],
   "source": [
    "# Initialize an empty DataFrame before the loop\n",
    "merged_df = pd.DataFrame()\n",
    "\n",
    "# File paths for your CSV files\n",
    "file_paths = ['AEM_WELL_LITHOLOGY_csv_WO4_20230831.csv', 'AEM_WELL_LITHOLOGY_csv_WO5_20230125.csv', 'AEM_WELL_LITHOLOGY_csv_WO6_20230103.csv', 'AEM_WELL_LITHOLOGY_csv_WO7_20230327.csv']\n",
    "\n",
    "for file_path in file_paths:\n",
    "    # Specify the encoding when reading the CSV files\n",
    "    df = pd.read_csv(file_path, encoding='latin1')\n",
    "    merged_df = merged_df.append(df, ignore_index=True)\n",
    "    \n",
    "# merged_df.to_csv('merged_file.csv', index=False)\n",
    "print(merged_df)"
   ]
  },
  {
   "cell_type": "code",
   "execution_count": null,
   "id": "55b4ef47",
   "metadata": {},
   "outputs": [],
   "source": [
    "# Subtract Column2 from Column1\n",
    "merged_df['depth'] = merged_df['GROUND_SURFACE_ELEVATION_m'] - merged_df['LITH_TOP_DEPTH_m']"
   ]
  },
  {
   "cell_type": "code",
   "execution_count": null,
   "id": "c8bea9e4",
   "metadata": {},
   "outputs": [],
   "source": [
    "import matplotlib.pyplot as plt\n",
    "\n",
    "# Visualize the well samples using a scatter plot\n",
    "fig = plt.figure(figsize=(10, 8))\n",
    "ax = fig.add_subplot(111, projection='3d')\n",
    "\n",
    "# Map classification to color\n",
    "class_to_color = {\n",
    "    'SC-SM': 'blue',\n",
    "    'GW/GP': 'green',\n",
    "    'ML/MH': 'yellow',\n",
    "    'CH/CL': 'lightcoral',\n",
    "    'SW/SP': 'lightblue',\n",
    "    'SC': 'purple',\n",
    "    'OL/OH': 'orange',\n",
    "    'GC': 'pink',\n",
    "    'Rock': 'gray',\n",
    "    'SM': 'brown'\n",
    "}\n",
    "\n",
    "for classification, color in class_to_color.items():\n",
    "    class_df = merged_df[merged_df['USCS_SYMBOL'] == classification]\n",
    "    ax.scatter(\n",
    "        class_df['X_CATEALEALBERS_m'],\n",
    "        class_df['Y_CATEALEALBERS_m'],\n",
    "        class_df['depth'],\n",
    "        c=color,\n",
    "        label=classification,\n",
    "        alpha=0.1\n",
    "    )\n",
    "\n",
    "# Customize plot\n",
    "ax.set_xlabel('X')\n",
    "ax.set_ylabel('Y')\n",
    "ax.set_zlabel('Z')\n",
    "ax.set_title('Well Samples Classification')\n",
    "ax.legend()\n",
    "\n",
    "# Add transparency and set view rotation\n",
    "ax.view_init(elev=20, azim=10)  # Set the elevation and azimuthal angles for rotation\n",
    "\n",
    "# Show the plot\n",
    "plt.show()"
   ]
  },
  {
   "cell_type": "code",
   "execution_count": null,
   "id": "dd0be508",
   "metadata": {},
   "outputs": [],
   "source": [
    "# Export data to Paraview format (VTK)\n",
    "vtk_file_path = 'well_samples.vtk'\n",
    "merged_df.to_parquet(vtk_file_path, index=False)"
   ]
  },
  {
   "cell_type": "code",
   "execution_count": null,
   "id": "9e144945",
   "metadata": {},
   "outputs": [],
   "source": [
    "# Load your mesh (replace 'path/to/your/mesh.vtk' with your actual file path)\n",
    "mesh_file_path = 'well_samples.vtk'\n",
    "mesh = pv.read(mesh_file_path)\n",
    "\n",
    "# Load your soil data (replace 'path/to/your/soil_data.csv' with your actual file path)\n",
    "soil_data_file_path = 'path/to/your/soil_data.csv'\n",
    "soil_data = pd.read_csv(soil_data_file_path)\n",
    "\n",
    "# Assuming your soil data has columns 'X', 'Y', 'Z', and 'Depth'\n",
    "# and 'Depth' represents the depth of the soil at each point\n",
    "\n",
    "# Create a PyVista mesh from the soil data\n",
    "soil_mesh = pv.PolyData(soil_data[['X', 'Y', 'Z']].values)\n",
    "\n",
    "# Add soil data to each node based on depth intervals (each 100 feet)\n",
    "depth_intervals = range(0, int(soil_data['Depth'].max()) + 100, 100)\n",
    "\n",
    "for depth_start, depth_end in zip(depth_intervals, depth_intervals[1:]):\n",
    "    # Extract nodes within the depth interval\n",
    "    selected_nodes = mesh.find_points((depth_start, depth_end), 'Z')\n",
    "\n",
    "    # Assign soil data to the selected nodes\n",
    "    selected_soil_data = soil_mesh.select_points(points=selected_nodes, invert=False)\n",
    "    mesh.point_arrays[f'SoilData_{depth_start}-{depth_end}'] = selected_soil_data['Depth']\n",
    "\n",
    "# Save the updated mesh with soil data\n",
    "mesh_with_soil_data_file_path = 'path/to/your/mesh_with_soil_data.vtk'\n",
    "mesh.save(mesh_with_soil_data_file_path)"
   ]
  }
 ],
 "metadata": {
  "kernelspec": {
   "display_name": "Python 3 (ipykernel)",
   "language": "python",
   "name": "python3"
  },
  "language_info": {
   "codemirror_mode": {
    "name": "ipython",
    "version": 3
   },
   "file_extension": ".py",
   "mimetype": "text/x-python",
   "name": "python",
   "nbconvert_exporter": "python",
   "pygments_lexer": "ipython3",
   "version": "3.11.5"
  }
 },
 "nbformat": 4,
 "nbformat_minor": 5
}
