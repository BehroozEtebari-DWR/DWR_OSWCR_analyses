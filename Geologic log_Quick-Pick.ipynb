{
 "cells": [
  {
   "cell_type": "code",
   "execution_count": 1,
   "metadata": {},
   "outputs": [],
   "source": [
    "import pandas as pd\n",
    "import re"
   ]
  },
  {
   "cell_type": "markdown",
   "metadata": {},
   "source": [
    "# import csv files as Pandas dataframes"
   ]
  },
  {
   "cell_type": "code",
   "execution_count": 2,
   "metadata": {},
   "outputs": [
    {
     "name": "stdout",
     "output_type": "stream",
     "text": [
      "            WCRNUMBER  INTERVALSTART  INTERVALEND MATERIALTYPE MATERIALCOLOR  \\\n",
      "0      WCR2022-007124            0.0          3.5   Silty Sand        Yellow   \n",
      "1      WCR2022-007124            3.5         12.0         Sand         Brown   \n",
      "2      WCR2022-007124           12.0         17.0   Silty Sand          Gray   \n",
      "3      WCR2022-007124           17.0         32.0   Silty Sand          Gray   \n",
      "4      WCR2022-007124           32.0         42.0         Clay         Brown   \n",
      "...               ...            ...          ...          ...           ...   \n",
      "41846  WCR2024-001766          123.0        144.0         Clay           Red   \n",
      "41847  WCR2024-001766          144.0        154.0         Sand           NaN   \n",
      "41848  WCR2024-001766          154.0        180.0         Clay           Red   \n",
      "41849  WCR2024-001766          180.0        198.0       Gravel           NaN   \n",
      "41850  WCR2024-001766          198.0        221.0         Sand           NaN   \n",
      "\n",
      "      MATERIALTEXTURE           MATERIALDESCRIPTION  \n",
      "0                 Dry                DRY SILTY SAND  \n",
      "1           Wet/Moist      MOIST POORLY GRADED SAND  \n",
      "2           Wet/Moist  POORLY GRADED SAND WITH SILT  \n",
      "3           Wet/Moist                SILT WITH SAND  \n",
      "4           Wet/Moist         CLAYEY SILT WITH SAND  \n",
      "...               ...                           ...  \n",
      "41846            Hard                           NaN  \n",
      "41847          Coarse                           NaN  \n",
      "41848            Hard                           NaN  \n",
      "41849             NaN                           NaN  \n",
      "41850          Coarse                           NaN  \n",
      "\n",
      "[41851 rows x 7 columns]\n"
     ]
    }
   ],
   "source": [
    "# geologiclog_freeform by 2023-04-28\n",
    "df = pd.read_csv(\"geologiclog_quickpick.csv\")\n",
    "print(df)"
   ]
  },
  {
   "cell_type": "code",
   "execution_count": 3,
   "metadata": {},
   "outputs": [],
   "source": [
    "# Define a dictionary for USCS group symbols\n",
    "uscs_conversions = {\n",
    "    'Silty Sand': 'SM',\n",
    "    'Sand': 'SW',\n",
    "    'Clay': 'CH',\n",
    "    'Concrete':'Unknown',\n",
    "    'Silt': 'ML',\n",
    "    'Clayey Sand': 'SC',\n",
    "    'Asphalt':'Unknown',\n",
    "    'Soil or Organic': 'OH',\n",
    "    'Granite': 'igneous rock',\n",
    "    'Shale': 'sedimentary rock',\n",
    "    'Rock': 'sedimentary rock',\n",
    "    'Claystone': 'sedimentary rock',\n",
    "    'Sandstone': 'sedimentary rock',\n",
    "    'Gravel': 'GW',\n",
    "    'Clayey Gravel': 'GC',\n",
    "    \n",
    "    'Silty Gravel': 'GM',\n",
    "    'Other-Fine Grained': 'ML',\n",
    "    'Greenstone':'metamorphic rock',\n",
    "    'Unknown':'Unknown',\n",
    "    'Serpentine':'metamorphic rock',\n",
    "    'Conglomerate': 'sedimentary rock',\n",
    "    'Siltstone': 'sedimentary rock',\n",
    "    'Slate':'metamorphic rock',\n",
    "    'Schist':'metamorphic rock'\n",
    "    'Other-Coarse Grained' :'GW',\n",
    "    \n",
    "    # Add more USCS conversions as needed\n",
    "}"
   ]
  },
  {
   "cell_type": "code",
   "execution_count": 4,
   "metadata": {},
   "outputs": [],
   "source": [
    "# Function to assign USCS group symbols based on Category\n",
    "def assign_uscs(text, uscs_conversions):\n",
    "    for key, value in uscs_conversions.items():\n",
    "        if re.search(r'\\b{}\\b'.format(re.escape(key)), text):\n",
    "            return value\n",
    "    return 'unknown'\n"
   ]
  },
  {
   "cell_type": "code",
   "execution_count": 5,
   "metadata": {
    "scrolled": true
   },
   "outputs": [
    {
     "name": "stdout",
     "output_type": "stream",
     "text": [
      "        WCRNUMBER  INTERVALSTART  INTERVALEND MATERIALTYPE MATERIALCOLOR  \\\n",
      "0  WCR2022-007124            0.0          3.5   Silty Sand        Yellow   \n",
      "1  WCR2022-007124            3.5         12.0         Sand         Brown   \n",
      "2  WCR2022-007124           12.0         17.0   Silty Sand          Gray   \n",
      "3  WCR2022-007124           17.0         32.0   Silty Sand          Gray   \n",
      "4  WCR2022-007124           32.0         42.0         Clay         Brown   \n",
      "\n",
      "  MATERIALTEXTURE           MATERIALDESCRIPTION USCS  \n",
      "0             Dry                DRY SILTY SAND   SM  \n",
      "1       Wet/Moist      MOIST POORLY GRADED SAND   SW  \n",
      "2       Wet/Moist  POORLY GRADED SAND WITH SILT   SM  \n",
      "3       Wet/Moist                SILT WITH SAND   SM  \n",
      "4       Wet/Moist         CLAYEY SILT WITH SAND   CH  \n"
     ]
    }
   ],
   "source": [
    "# Add a new column 'USCS' and apply the conversions\n",
    "df['USCS'] = df['MATERIALTYPE'].apply(lambda x: assign_uscs(x, uscs_conversions))\n",
    "\n",
    "# Display the DataFrame to verify the new column\n",
    "print(df.head())"
   ]
  },
  {
   "cell_type": "code",
   "execution_count": 6,
   "metadata": {},
   "outputs": [
    {
     "name": "stdout",
     "output_type": "stream",
     "text": [
      "Updated CSV file saved as 'updated_geologiclog_quick-pick.csv'\n"
     ]
    }
   ],
   "source": [
    "# Save the updated DataFrame to a new CSV file\n",
    "output_file = 'updated_geologiclog_quick-pick.csv'\n",
    "df.to_csv(output_file, index=False)\n",
    "\n",
    "print(f\"Updated CSV file saved as '{output_file}'\")"
   ]
  },
  {
   "cell_type": "code",
   "execution_count": null,
   "metadata": {},
   "outputs": [],
   "source": []
  }
 ],
 "metadata": {
  "kernelspec": {
   "display_name": "Python 3 (ipykernel)",
   "language": "python",
   "name": "python3"
  },
  "language_info": {
   "codemirror_mode": {
    "name": "ipython",
    "version": 3
   },
   "file_extension": ".py",
   "mimetype": "text/x-python",
   "name": "python",
   "nbconvert_exporter": "python",
   "pygments_lexer": "ipython3",
   "version": "3.9.18"
  }
 },
 "nbformat": 4,
 "nbformat_minor": 4
}
