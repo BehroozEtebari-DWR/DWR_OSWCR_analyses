{
 "cells": [
  {
   "cell_type": "code",
   "execution_count": 1,
   "metadata": {},
   "outputs": [],
   "source": [
    "import pandas as pd\n",
    "import re"
   ]
  },
  {
   "cell_type": "markdown",
   "metadata": {},
   "source": [
    "# import csv files as Pandas dataframes"
   ]
  },
  {
   "cell_type": "code",
   "execution_count": 2,
   "metadata": {},
   "outputs": [
    {
     "name": "stdout",
     "output_type": "stream",
     "text": [
      "            WCRNUMBER  INTERVALSTART  INTERVALEND  \\\n",
      "0      WCR2022-013212          159.0        160.0   \n",
      "1      WCR2022-013212          160.0        165.0   \n",
      "2      WCR2022-013212          165.0        173.0   \n",
      "3      WCR2022-013212          173.0        175.0   \n",
      "4      WCR2022-013212          175.0        180.0   \n",
      "...               ...            ...          ...   \n",
      "19340  WCR2019-003540           15.5         21.5   \n",
      "19341  WCR2019-003540           21.5         30.0   \n",
      "19342  WCR2019-003540           30.0         33.5   \n",
      "19343  WCR2019-003540           33.5         37.5   \n",
      "19344  WCR2019-003540           37.5         41.5   \n",
      "\n",
      "                          SOILCLASSIFICATION                       SOILCOLOR  \\\n",
      "0                            (ML) Sandy silt  light brownish gray (10YR 6/2)   \n",
      "1                              (CH) Fat clay               brown (7.5YR 4/4)   \n",
      "2                    (CH) Fat clay with sand                brown (10YR 4/3)   \n",
      "3                            (SM) Silty sand                brown (10YR 4/3)   \n",
      "4                              (CH) Fat clay                brown (10YR 4/3)   \n",
      "...                                      ...                             ...   \n",
      "19340  ML Inorganic SILT with low plasticity                            gray   \n",
      "19341                          SM Silty SAND                      light gray   \n",
      "19342                  SP Poorly graded SAND                            gray   \n",
      "19343  ML Inorganic SILT with low plasticity                           brown   \n",
      "19344                          SM Silty SAND                           brown   \n",
      "\n",
      "                                         SOILDESCRIPTION  \n",
      "0      80% non-plastic fines, 20% fine sand, hard con...  \n",
      "1      High-plasticity, very hard consistency, dry to...  \n",
      "2      80% high-plasticity fines, 20% fine sand, medi...  \n",
      "3      SILTY SAND (SM) - 50% fine sand, 20% medium sa...  \n",
      "4      FAT CLAY (CH) - High-plasticity, medium stiff ...  \n",
      "...                                                  ...  \n",
      "19340                        silt with fine grained sand  \n",
      "19341                                         silty sand  \n",
      "19342         poorly graded sand, fine to medium grained  \n",
      "19343                              silt, trace fine sand  \n",
      "19344                           silty sand, fine grained  \n",
      "\n",
      "[19345 rows x 6 columns]\n"
     ]
    }
   ],
   "source": [
    "# geologiclog_freeform by 2023-04-28\n",
    "df = pd.read_csv(\"geologiclog_uscs.csv\", encoding='utf-8-sig')\n",
    "\n",
    "print(df)"
   ]
  },
  {
   "cell_type": "code",
   "execution_count": 3,
   "metadata": {},
   "outputs": [],
   "source": [
    "# Function to extract text within parentheses\n",
    "def extract_uscs(text):\n",
    "    if isinstance(text, str):\n",
    "        match = re.search(r'\\((.*?)\\)', text)\n",
    "        if match:\n",
    "            return match.group(1)\n",
    "    return 'unknown'\n",
    "\n",
    "# Apply the function to the 'SOILCLASSIFICATION' column and create a new 'USCS' column\n",
    "df['USCS'] = df['SOILCLASSIFICATION'].apply(extract_uscs)"
   ]
  },
  {
   "cell_type": "code",
   "execution_count": 4,
   "metadata": {},
   "outputs": [
    {
     "name": "stdout",
     "output_type": "stream",
     "text": [
      "        WCRNUMBER  INTERVALSTART  INTERVALEND       SOILCLASSIFICATION  \\\n",
      "0  WCR2022-013212          159.0        160.0          (ML) Sandy silt   \n",
      "1  WCR2022-013212          160.0        165.0            (CH) Fat clay   \n",
      "2  WCR2022-013212          165.0        173.0  (CH) Fat clay with sand   \n",
      "3  WCR2022-013212          173.0        175.0          (SM) Silty sand   \n",
      "4  WCR2022-013212          175.0        180.0            (CH) Fat clay   \n",
      "\n",
      "                        SOILCOLOR  \\\n",
      "0  light brownish gray (10YR 6/2)   \n",
      "1               brown (7.5YR 4/4)   \n",
      "2                brown (10YR 4/3)   \n",
      "3                brown (10YR 4/3)   \n",
      "4                brown (10YR 4/3)   \n",
      "\n",
      "                                     SOILDESCRIPTION USCS  \n",
      "0  80% non-plastic fines, 20% fine sand, hard con...   ML  \n",
      "1  High-plasticity, very hard consistency, dry to...   CH  \n",
      "2  80% high-plasticity fines, 20% fine sand, medi...   CH  \n",
      "3  SILTY SAND (SM) - 50% fine sand, 20% medium sa...   SM  \n",
      "4  FAT CLAY (CH) - High-plasticity, medium stiff ...   CH  \n"
     ]
    }
   ],
   "source": [
    "# Display the DataFrame to verify the new column\n",
    "print(df.head())"
   ]
  },
  {
   "cell_type": "code",
   "execution_count": 5,
   "metadata": {},
   "outputs": [],
   "source": [
    "# Set of known USCS classifications\n",
    "known_uscs = {'ML', 'CH', 'CL', 'MH', 'SC', 'SM', 'SP', 'SW', 'GW', 'GP', 'GM', 'GC','OH',\n",
    "        'SM-SC','SM-ML','SM-GP','SP-GP', 'SW-GW','SC-GC','SC-ML','SP/GP/CL','CL/SP',\n",
    "        'GW-GM','OH/CH','CL/CH', 'Cl','SW-SM','SW-SC','SP-SM','SP-SC','OL','GW-GC','GP-SP',\n",
    "        'GP-GM','GP-GC','GP-CG','CL-ML','CH+GP'   \n",
    "             }"
   ]
  },
  {
   "cell_type": "code",
   "execution_count": 6,
   "metadata": {},
   "outputs": [],
   "source": [
    "# Dictionary to map specific soil classifications to USCS or rock categories\n",
    "classification_mapping = {\n",
    "    'Rock - Sedimentary': 'Sedimentary Rock',\n",
    "    'Rock - Igneous': 'Igneous Rock',\n",
    "    'Rock - Metamorphic': 'Metamorphic Rock',\n",
    "    'Siltstone': 'Sedimentary Rock',\n",
    "    'Sandstone': 'Sedimentary Rock',\n",
    "    'Bedrock': 'Sedimentary Rock',\n",
    "    'SILTSTONE/MUDSTONE': 'Sedimentary Rock',\n",
    "    'Topsoil': 'OH',\n",
    "    'Sandstone': ' Sedimentary Rock',\n",
    "    'TUFF': 'Vocanic Rock',\n",
    "    'FILL': 'Unknown',\n",
    "    'Claystone/hardpan': 'Sedimentary Rock',\n",
    "    'Siltstone-Claystone': 'Sedimentary Rock',\n",
    "    'Silty-Sandstone': 'Sedimentary Rock',\n",
    "    'Ishi': 'Volcanic Rock',\n",
    "    'Tuff/ASH': 'Volcanic Rock',\n",
    "    'sltst': 'Sedimentary Rock',\n",
    "    'clyst': 'Sedimentary Rock',\n",
    "    'sltst and clyst': 'Sedimentary Rock',\n",
    "    'CLAYSTONE/SAND': 'Sedimentary Rock',\n",
    "    'CLAYSTONE': 'Sedimentary Rock',\n",
    "    'TUFF or SILTSTONE/CLAYSTONE': 'Metasedimentary Rock',\n",
    "    'SILTSTONE/SANDSTONE': 'Sedimentary Rock',\n",
    "    'SILTSTONE/SANDSTONE,': 'Sedimentary Rock',\n",
    "    'SilTSTONE/CLAYSTONE': 'Sedimentary Rock',\n",
    "    'Ash': 'Volcanic Rock',\n",
    "    'Sand/Sandstone': 'Sedimentary Rock',\n",
    "    'Volcanic': 'Volcanic Rock',\n",
    "    'PT PEAT soils with high organic contents': 'PT',\n",
    "    'SILTSTONE': 'Sedimentary Rock',\n",
    "    'SANDSTONE': 'Sedimentary Rock',\n",
    "    'Claystone/hardpan,': 'CL',\n",
    "    'Siltstone-Claystone,': 'Sedimentary Rock',\n",
    "    'Silty-Sandstone,': 'Sedimentary Rock',\n",
    "    'Tuff': 'Volcanic Rock',\n",
    "    'Sltst': 'Sedimentary Rock',\n",
    "        # Including the ones with BOM characters manually removed\n",
    "    'ï»¿GC': 'GC',\n",
    "    'ï»¿SP': 'SP',\n",
    "    'ï»¿CL': 'CL',\n",
    "\n",
    "}"
   ]
  },
  {
   "cell_type": "code",
   "execution_count": 7,
   "metadata": {},
   "outputs": [],
   "source": [
    "# Function to extract USCS classification\n",
    "def extract_uscs(text):\n",
    "    if isinstance(text, str):\n",
    "        text = text.strip()  # Remove leading/trailing whitespace\n",
    "        # Remove BOM characters if present\n",
    "        text = text.encode('utf-8').decode('utf-8-sig')\n",
    "        # Check for direct USCS classification\n",
    "        for uscs in known_uscs:\n",
    "            if uscs in text.split():\n",
    "                return uscs\n",
    "        # Check for known classifications in the mapping\n",
    "        if text in classification_mapping:\n",
    "            return classification_mapping[text]\n",
    "        # If no direct classification, look for text within parentheses\n",
    "        match = re.search(r'\\((.*?)\\)', text)\n",
    "        if match:\n",
    "            return match.group(1)\n",
    "    return 'unknown'\n",
    "\n",
    "# Apply the function to the 'SOILCLASSIFICATION' column and create a new 'USCS' column\n",
    "df['USCS'] = df['SOILCLASSIFICATION'].apply(extract_uscs)"
   ]
  },
  {
   "cell_type": "code",
   "execution_count": 8,
   "metadata": {},
   "outputs": [
    {
     "name": "stdout",
     "output_type": "stream",
     "text": [
      "        WCRNUMBER  INTERVALSTART  INTERVALEND       SOILCLASSIFICATION  \\\n",
      "0  WCR2022-013212          159.0        160.0          (ML) Sandy silt   \n",
      "1  WCR2022-013212          160.0        165.0            (CH) Fat clay   \n",
      "2  WCR2022-013212          165.0        173.0  (CH) Fat clay with sand   \n",
      "3  WCR2022-013212          173.0        175.0          (SM) Silty sand   \n",
      "4  WCR2022-013212          175.0        180.0            (CH) Fat clay   \n",
      "\n",
      "                        SOILCOLOR  \\\n",
      "0  light brownish gray (10YR 6/2)   \n",
      "1               brown (7.5YR 4/4)   \n",
      "2                brown (10YR 4/3)   \n",
      "3                brown (10YR 4/3)   \n",
      "4                brown (10YR 4/3)   \n",
      "\n",
      "                                     SOILDESCRIPTION USCS  \n",
      "0  80% non-plastic fines, 20% fine sand, hard con...   ML  \n",
      "1  High-plasticity, very hard consistency, dry to...   CH  \n",
      "2  80% high-plasticity fines, 20% fine sand, medi...   CH  \n",
      "3  SILTY SAND (SM) - 50% fine sand, 20% medium sa...   SM  \n",
      "4  FAT CLAY (CH) - High-plasticity, medium stiff ...   CH  \n",
      "Updated CSV file saved as 'updated_geologiclog_USCS.csv'\n"
     ]
    }
   ],
   "source": [
    "# Display the DataFrame to verify the new column\n",
    "print(df.head())\n",
    "\n",
    "# Save the updated DataFrame to a new CSV file\n",
    "output_file = 'updated_geologiclog_USCS.csv'\n",
    "df.to_csv(output_file, index=False)\n",
    "\n",
    "print(f\"Updated CSV file saved as '{output_file}'\")"
   ]
  },
  {
   "cell_type": "code",
   "execution_count": null,
   "metadata": {},
   "outputs": [],
   "source": []
  }
 ],
 "metadata": {
  "kernelspec": {
   "display_name": "Python 3 (ipykernel)",
   "language": "python",
   "name": "python3"
  },
  "language_info": {
   "codemirror_mode": {
    "name": "ipython",
    "version": 3
   },
   "file_extension": ".py",
   "mimetype": "text/x-python",
   "name": "python",
   "nbconvert_exporter": "python",
   "pygments_lexer": "ipython3",
   "version": "3.11.5"
  }
 },
 "nbformat": 4,
 "nbformat_minor": 4
}
