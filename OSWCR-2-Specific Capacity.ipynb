{
 "cells": [
  {
   "cell_type": "code",
   "execution_count": 1,
   "metadata": {},
   "outputs": [],
   "source": [
    "%matplotlib inline\n",
    "import os\n",
    "import csv\n",
    "import pandas as pd\n",
    "import numpy as np"
   ]
  },
  {
   "cell_type": "markdown",
   "metadata": {},
   "source": [
    "# import Well Location(geospatial info) csv files as Pandas dataframes"
   ]
  },
  {
   "cell_type": "code",
   "execution_count": 2,
   "metadata": {},
   "outputs": [
    {
     "name": "stderr",
     "output_type": "stream",
     "text": [
      "C:\\Users\\betebari\\AppData\\Local\\Temp\\ipykernel_5924\\3123040521.py:8: DtypeWarning: Columns (14,15,32,33,34,41,42) have mixed types. Specify dtype option on import or set low_memory=False.\n",
      "  df1 = pd.read_csv(\"wellcompletionreports.csv\", usecols=columns_to_read)\n"
     ]
    },
    {
     "name": "stdout",
     "output_type": "stream",
     "text": [
      "        WCRNUMBER DECIMALLATITUDE DECIMALLONGITUDE TOTALCOMPLETEDDEPTH  \\\n",
      "0  WCR2005-016846         37.6724         -121.724                 400   \n",
      "1  WCR2006-007057         37.5258          -122.03                  20   \n",
      "2  WCR2006-000009             NaN              NaN                 NaN   \n",
      "3  WCR2006-002311             NaN              NaN                 NaN   \n",
      "4  WCR2006-002049             NaN              NaN                 250   \n",
      "\n",
      "  TOPOFPERFORATEDINTERVAL BOTTOMOFPERFORATEDINTERVAL  STATICWATERLEVEL  \\\n",
      "0                     175                        355               NaN   \n",
      "1                      10                         20              8.22   \n",
      "2                     NaN                        NaN               NaN   \n",
      "3                     NaN                        NaN               NaN   \n",
      "4                     NaN                        NaN             19.00   \n",
      "\n",
      "   TOTALDRAWDOWN TESTTYPE PUMPTESTLENGTH WELLYIELD  \n",
      "0            NaN      NaN            NaN       NaN  \n",
      "1            NaN      NaN            NaN         1  \n",
      "2            NaN      NaN            NaN       NaN  \n",
      "3            NaN      NaN            NaN       NaN  \n",
      "4            7.0      NaN              8       150  \n"
     ]
    }
   ],
   "source": [
    "# Specify the columns you want to read\n",
    "columns_to_read = ['WCRNUMBER', 'DECIMALLATITUDE', 'DECIMALLONGITUDE','BOTTOMOFPERFORATEDINTERVAL',\\\n",
    "            'TOTALCOMPLETEDDEPTH','TOPOFPERFORATEDINTERVAL','WELLYIELD','TESTTYPE','TOTALDRAWDOWN',\\\n",
    "            'PUMPTESTLENGTH','PUMPTESTLENGTH','STATICWATERLEVEL',]\n",
    "\n",
    "try:\n",
    "    # Read CSV file with specified columns\n",
    "    df1 = pd.read_csv(\"wellcompletionreports.csv\", usecols=columns_to_read)\n",
    "    \n",
    "    # Display the first few rows to verify\n",
    "    print(df1.head())\n",
    "except FileNotFoundError:\n",
    "    print(\"File not found.\")\n",
    "except Exception as e:\n",
    "    print(f\"Error: {e}\")"
   ]
  },
  {
   "cell_type": "markdown",
   "metadata": {},
   "source": [
    "## Convert '/' character to decimal character\n",
    "# i.e.   37/41/13.06/  to 37+41  divide by /60  + 13.06 # divide by 3600"
   ]
  },
  {
   "cell_type": "code",
   "execution_count": 3,
   "metadata": {},
   "outputs": [],
   "source": [
    "def convert_latitude(lat):\n",
    "    if isinstance(lat, str) and '/' in lat:\n",
    "        lat_parts = lat.split('/')[:-1]  # Exclude the last element\n",
    "        try:\n",
    "            degrees, minutes, seconds = map(float, lat_parts)\n",
    "            decimal_lat = degrees + (minutes / 60) + (seconds / 3600)\n",
    "            return decimal_lat\n",
    "        except ValueError:\n",
    "            return None\n",
    "    else:\n",
    "        try:\n",
    "            return float(lat)\n",
    "        except (ValueError, TypeError):\n",
    "            return None\n",
    "\n",
    "def convert_longitude(lon):\n",
    "    if isinstance(lon, str) and '/' in lon:\n",
    "        lon_parts = lon.split('/')[:-1]  # Exclude the last element\n",
    "        try:\n",
    "            degrees, minutes, seconds = map(float, lon_parts)\n",
    "            decimal_lon = degrees + (minutes / 60) + (seconds / 3600)\n",
    "            return decimal_lon\n",
    "        except ValueError:\n",
    "            return None\n",
    "    else:\n",
    "        try:\n",
    "            return float(lon)\n",
    "        except (ValueError, TypeError):\n",
    "            return None"
   ]
  },
  {
   "cell_type": "code",
   "execution_count": 4,
   "metadata": {},
   "outputs": [],
   "source": [
    "df1['Decimal_Lat'] = df1['DECIMALLATITUDE'].apply(convert_latitude)\n",
    "df1['Decimal_Long'] = df1['DECIMALLONGITUDE'].apply(convert_longitude)"
   ]
  },
  {
   "cell_type": "code",
   "execution_count": 5,
   "metadata": {},
   "outputs": [],
   "source": [
    "df1 = df1.dropna(subset=['DECIMALLONGITUDE','DECIMALLATITUDE','TOTALDRAWDOWN' ,'WELLYIELD'])\n",
    "df1 = df1.drop(columns=['DECIMALLONGITUDE','DECIMALLATITUDE' ])\n",
    "# print(df1.head())"
   ]
  },
  {
   "cell_type": "code",
   "execution_count": 6,
   "metadata": {},
   "outputs": [
    {
     "name": "stdout",
     "output_type": "stream",
     "text": [
      "not reliable\n"
     ]
    }
   ],
   "source": [
    "# Convert columns to numeric, setting errors='coerce' to convert invalid parsing to NaN\n",
    "df1['TOTALDRAWDOWN'] = pd.to_numeric(df1['TOTALDRAWDOWN'], errors='coerce')\n",
    "df1['TOTALCOMPLETEDDEPTH'] = pd.to_numeric(df1['TOTALCOMPLETEDDEPTH'], errors='coerce')\n",
    "\n",
    "# Create the 'drawdown_flag' column based on the condition\n",
    "df1['drawdown_flag'] = (df1['TOTALDRAWDOWN'] > df1['TOTALCOMPLETEDDEPTH']) & \\\n",
    "                       (~df1['TOTALCOMPLETEDDEPTH'].isna()) & \\\n",
    "                       (df1['TOTALCOMPLETEDDEPTH'] != df1['TOTALDRAWDOWN'])\n",
    "\n",
    "# Print 'not reliable' if any value in 'drawdown_flag' is True\n",
    "if df1['drawdown_flag'].any():\n",
    "    print(\"not reliable\")\n",
    "\n",
    "# Display the DataFrame\n",
    "# print(df1.head())"
   ]
  },
  {
   "cell_type": "markdown",
   "metadata": {},
   "source": [
    "# Estimate of Transmisivity using Driscoll approach (198)"
   ]
  },
  {
   "cell_type": "markdown",
   "metadata": {},
   "source": [
    "#Estimate of Transmisivity using Driscoll approach (1986, units gpd/ft, best if aquifer is Confined)\n",
    "#Using equation (1), Driscoll (1986) assumed the following values to develop approximate formulas for estimating transmissivity from specific capacity in confined and unconfined aquifers:\n",
    "\n",
    "#T = 30,000 US gal/day/ft\n",
    "\n",
    "#S = 0.001 (confined) or 0.075 (unconfined)\n",
    "\n",
    "#rw = 0.5 ft\n",
    "\n",
    "#t = 1 day\n",
    "\n",
    "#T = 2000(Q/sw) confined aquifer\n",
    "\n",
    "#T = 1500(Q/sw) unconfined aquifer"
   ]
  },
  {
   "cell_type": "markdown",
   "metadata": {},
   "source": [
    "#The reliability of specific capacity data from pumping tests depends on various factors, including the aquifer type, well construction, and testing conditions. In many typical scenarios, specific capacities less than 200 gpm/ft are considered realistic and reliable. Here is a more detailed breakdown of what is generally considered reliable for different aquifer types:\n",
    "#1Unconsolidated Sand and Gravel Aquifers:** \n",
    "\n",
    "#Reliable specific capacities: 10 to 100 gpm/ft\n",
    "#Higher values may occur but should be verified for accuracy.\n",
    "\n",
    "#2.Sandstone Aquifers:**\n",
    "\n",
    "#Reliable specific capacities: 1 to 20 gpm/ft\n",
    "#Values higher than this range are rare and should be verified.\n",
    "\n",
    "#3.Limestone or Karst Aquifers:**\n",
    "\n",
    "#Reliable specific capacities: 5 to 50 gpm/ft\n",
    "\n",
    "#Higher values can occur but are less common and may need careful verification.\n",
    "\n",
    "#4.Fractured Rock Aquifers:**\n",
    "\n",
    "#Reliable specific capacities: less than 5 gpm/ft\n",
    "#Higher values are unusual and typically indicate specific geological features.\n",
    "\n",
    "#Specific Capacity Ranges and Reliability\n",
    "\n",
    "#Less than 1 gpm/ft:** Usually indicative of low-yield wells or poor aquifer conditions.\n",
    "\n",
    "#1 to 10 gpm/ft:** Common in less productive aquifers such as fractured rocks or poorly sorted sands.\n",
    "\n",
    "#10 to 100 gpm/ft:** Typical for many sand and gravel aquifers, as well as some limestone aquifers.\n",
    "\n",
    "#100 to 200 gpm/ft:** Found in highly productive sand and gravel or karst aquifers but still within a reasonable range for certain geological settings.\n",
    "\n",
    "#Summary\n",
    "\n",
    "#For most practical purposes, specific capacities less than 200 gpm/ft are considered reasonable and reliable, particularly in unconsolidated sand and gravel aquifers, and some karst aquifers. Values above 200 gpm/ft should be carefully scrutinized to ensure accuracy and to understand the geological context."
   ]
  },
  {
   "cell_type": "code",
   "execution_count": 7,
   "metadata": {},
   "outputs": [],
   "source": [
    "# Convert columns to numeric, setting errors='coerce' to convert invalid parsing to NaN\n",
    "df1['WELLYIELD'] = pd.to_numeric(df1['WELLYIELD'], errors='coerce')\n",
    "df1['BOTTOMOFPERFORATEDINTERVAL'] = pd.to_numeric(df1['BOTTOMOFPERFORATEDINTERVAL'], errors='coerce')\n",
    "df1['TOPOFPERFORATEDINTERVAL'] = pd.to_numeric(df1['TOPOFPERFORATEDINTERVAL'], errors='coerce')\n",
    "df1['TOTALCOMPLETEDDEPTH'] = pd.to_numeric(df1['TOTALCOMPLETEDDEPTH'], errors='coerce')\n",
    "df1['STATICWATERLEVEL'] = pd.to_numeric(df1['STATICWATERLEVEL'], errors='coerce')\n",
    "\n",
    "#  calculate SpecificCapacity using:\n",
    "df1['SpecificCapacity'] = df1['WELLYIELD'] / df1['TOTALDRAWDOWN']\n",
    "\n",
    "# Set SpecificCapacity to NaN where it is greater than 200\n",
    "df1.loc[df1['SpecificCapacity'] > 200, 'SpecificCapacity'] = pd.NA\n",
    "\n",
    "#  Estimate of Transmisivity using Driscoll approach\n",
    "df1['Tr_Driscoll_Confined'] = df1['SpecificCapacity'] *2000 \n",
    "df1['Tr_Driscoll_Unconfined'] = df1['SpecificCapacity'] *1500 \n",
    "\n",
    "# Round down the specified columns to the nearest 2 decimal places\n",
    "df1['Tr_Driscoll_Confined'] = df1['Tr_Driscoll_Confined'].apply(lambda x: np.floor(x * 100) / 100)\n",
    "df1['Tr_Driscoll_Unconfined'] = df1['Tr_Driscoll_Unconfined'].apply(lambda x: np.floor(x * 100) / 100)\n",
    "\n",
    "# calculate Saturated thickness using top and bottom of screen\n",
    "df1['SaturatedThickness'] = df1['TOTALCOMPLETEDDEPTH'] -df1['STATICWATERLEVEL'] \n",
    "\n",
    "# Replace negative values with NaN\n",
    "df1['SaturatedThickness'] = np.where(df1['SaturatedThickness'] < 0, np.nan, df1['SaturatedThickness'])\n",
    "\n",
    "# Where ScreenedInterval is NaN, calculate it using TOTALCOMPLETEDDEPTH and STATICWATERLEVEL\n",
    "df1.loc[df1['SaturatedThickness'].isna(), 'SaturatedThickness'] = df1['BOTTOMOFPERFORATEDINTERVAL'] - df1['TOPOFPERFORATEDINTERVAL']\n",
    "\n",
    "# Estimate of Hydraluic Conductivity using Driscoll approach\n",
    "df1['Kxy_Driscoll_Confined'] = df1['Tr_Driscoll_Confined'] /df1['SaturatedThickness']\n",
    "df1['Kxy_Driscoll_Unonfined'] = df1['Tr_Driscoll_Unconfined'] /df1['SaturatedThickness']\n",
    "\n",
    "# Round down the specified columns to the nearest 2 decimal places\n",
    "df1['Kxy_Driscoll_Confined'] = df1['Kxy_Driscoll_Confined'].apply(lambda x: np.floor(x * 100) / 100)\n",
    "df1['Kxy_Driscoll_Unonfined'] = df1['Kxy_Driscoll_Unonfined'].apply(lambda x: np.floor(x * 100) / 100)\n",
    "\n",
    "\n",
    "# Display the DataFrame\n",
    "# print(df1.head())"
   ]
  },
  {
   "cell_type": "markdown",
   "metadata": {},
   "source": [
    "# computing T in m2/day are (Batu 1998):"
   ]
  },
  {
   "cell_type": "markdown",
   "metadata": {},
   "source": [
    "#If we express Q in m3/day and sw in m, the equations for computing T in m2/day are (Batu 1998):\n",
    "\n",
    "#T = 1.385(Q/sw)    confined aquifer\n",
    "\n",
    "#T = 1.042(Q/sw)    unconfined aquifer"
   ]
  },
  {
   "cell_type": "code",
   "execution_count": 8,
   "metadata": {},
   "outputs": [],
   "source": [
    "# unit conversion \n",
    "df1['WELLYIELD_m3d'] = df1['WELLYIELD'] * 5.45099296896\n",
    "df1['TOTALDRAWDOWN_m'] = df1['TOTALDRAWDOWN'] * 0.3048\n",
    "df1['SaturatedThickness_m'] = df1['SaturatedThickness'] * 0.3048\n",
    "\n",
    "df1['SpecificCapacity_m'] = df1['WELLYIELD_m3d'] / df1['TOTALDRAWDOWN_m']\n",
    "\n",
    "df1['Tr_Batu_Confined'] = df1['SpecificCapacity_m'] * 1.385 \n",
    "df1['Tr_Batu_Unconfined'] = df1['SpecificCapacity_m'] * 1.042 \n",
    "\n",
    "# Round down the specified columns to the nearest 2 decimal places\n",
    "df1['Tr_Batu_Confined'] = df1['Tr_Batu_Confined'].apply(lambda x: np.floor(x * 100) / 100)\n",
    "df1['Tr_Batu_Unconfined'] = df1['Tr_Batu_Unconfined'].apply(lambda x: np.floor(x * 100) / 100)\n",
    "\n",
    "\n",
    "# Estimate of Hydraluic Conductivity using Batu approach\n",
    "df1['Kxy_Batu_Confined'] = df1['Tr_Batu_Confined'] /df1['SaturatedThickness_m']\n",
    "df1['Kxy_Batu_Unonfined'] = df1['Tr_Batu_Unconfined'] /df1['SaturatedThickness_m']\n",
    "\n",
    "# Round down the specified columns to the nearest 2 decimal places\n",
    "df1['Kxy_Batu_Confined'] = df1['Kxy_Batu_Confined'].apply(lambda x: np.floor(x * 100) / 100)\n",
    "df1['Kxy_Batu_Unonfined'] = df1['Kxy_Batu_Unonfined'].apply(lambda x: np.floor(x * 100) / 100)\n",
    "\n",
    "# Display the DataFrame\n",
    "# print(df1.head())"
   ]
  },
  {
   "cell_type": "markdown",
   "metadata": {},
   "source": [
    "# Transmissivity in fractured bedrock  using Mace(1997) (m2/day)"
   ]
  },
  {
   "cell_type": "code",
   "execution_count": 9,
   "metadata": {},
   "outputs": [],
   "source": [
    "df1['Tr_Mace_fracuture'] =0.76 * ((df1['SpecificCapacity_m']) ** 1.08)\n",
    "\n",
    "# Estimate of Hydraluic Conductivity using mace approach\n",
    "df1['Kxy_Mace_fracuture'] = df1['Tr_Mace_fracuture'] /df1['SaturatedThickness_m']\n",
    "\n",
    "# Round down the specified columns to the nearest 2 decimal places\n",
    "df1['Tr_Mace_fracuture'] = df1['Tr_Mace_fracuture'].apply(lambda x: np.floor(x * 100) / 100)\n",
    "df1['Kxy_Mace_fracuture'] = df1['Kxy_Mace_fracuture'].apply(lambda x: np.floor(x * 100) / 100)\n",
    "\n",
    "# Display the DataFrame\n",
    "# print(df1.head())"
   ]
  },
  {
   "cell_type": "markdown",
   "metadata": {},
   "source": [
    "# Transmisivity Razack & Huntley (m2/day)"
   ]
  },
  {
   "cell_type": "code",
   "execution_count": 10,
   "metadata": {},
   "outputs": [
    {
     "name": "stdout",
     "output_type": "stream",
     "text": [
      "              WCRNUMBER  TOTALCOMPLETEDDEPTH  TOPOFPERFORATEDINTERVAL  \\\n",
      "36       WCR2021-009337                500.0                    120.0   \n",
      "176      WCR2020-008268                300.0                    160.0   \n",
      "632      WCR1998-000135                370.0                    100.0   \n",
      "831      WCR2020-009133                  NaN                      NaN   \n",
      "879      WCR2022-003003                340.0                    200.0   \n",
      "...                 ...                  ...                      ...   \n",
      "1075388  WCR2004-000760                150.0                     38.0   \n",
      "1075411  WCR2005-000437                450.0                    225.0   \n",
      "1075423  WCR2005-003261                100.0                     32.0   \n",
      "1075442  WCR2013-003719                400.0                      NaN   \n",
      "1075561  WCR2001-002338                 81.0                     59.0   \n",
      "\n",
      "         BOTTOMOFPERFORATEDINTERVAL  STATICWATERLEVEL  TOTALDRAWDOWN  \\\n",
      "36                            440.0             60.00          180.0   \n",
      "176                           300.0             80.00          100.0   \n",
      "632                           310.0              0.00          310.0   \n",
      "831                             NaN              5.00            0.5   \n",
      "879                           340.0             80.00          200.0   \n",
      "...                             ...               ...            ...   \n",
      "1075388                       150.0             20.00          150.0   \n",
      "1075411                       450.0             40.00          450.0   \n",
      "1075423                       100.0             15.00          100.0   \n",
      "1075442                         NaN             60.00          400.0   \n",
      "1075561                        79.0             72.43            1.0   \n",
      "\n",
      "         TESTTYPE PUMPTESTLENGTH  WELLYIELD  Decimal_Lat  ...  \\\n",
      "36       Air Lift              8       45.0      37.6402  ...   \n",
      "176      Air Lift              4      100.0      37.6671  ...   \n",
      "632           NaN              2        2.0      37.5862  ...   \n",
      "831          Pump              1       50.0      37.5532  ...   \n",
      "879          Pump              4       15.0      37.6505  ...   \n",
      "...           ...            ...        ...          ...  ...   \n",
      "1075388       NaN            4.0       60.0      39.2992  ...   \n",
      "1075411       NaN            4.0       10.0      39.2543  ...   \n",
      "1075423       NaN            4.0       30.0      39.2919  ...   \n",
      "1075442       NaN            4.0       20.0      39.1742  ...   \n",
      "1075561       NaN            5.0        0.5      39.1079  ...   \n",
      "\n",
      "         Tr_Batu_Confined  Tr_Batu_Unconfined  Kxy_Batu_Confined  \\\n",
      "36                   6.19                4.65               0.04   \n",
      "176                 24.76               18.63               0.36   \n",
      "632                  0.15                0.12               0.00   \n",
      "831               2476.91             1863.49                NaN   \n",
      "879                  1.85                1.39               0.02   \n",
      "...                   ...                 ...                ...   \n",
      "1075388              9.90                7.45               0.24   \n",
      "1075411              0.55                0.41               0.00   \n",
      "1075423              7.43                5.59               0.28   \n",
      "1075442              1.23                0.93               0.01   \n",
      "1075561             12.38                9.31               4.73   \n",
      "\n",
      "         Kxy_Batu_Unonfined  Tr_Mace_fracuture  Kxy_Mace_fracuture  \\\n",
      "36                     0.03               3.83                0.02   \n",
      "176                    0.27              17.11                0.25   \n",
      "632                    0.00               0.07                0.00   \n",
      "831                     NaN            2474.40                 NaN   \n",
      "879                    0.01               1.04                0.01   \n",
      "...                     ...                ...                 ...   \n",
      "1075388                0.18               6.36                0.16   \n",
      "1075411                0.00               0.28                0.00   \n",
      "1075423                0.21               4.66                0.18   \n",
      "1075442                0.00               0.67                0.00   \n",
      "1075561                3.56               8.09                3.10   \n",
      "\n",
      "         Tr_Razack_m2d  Tr_Razack_ft2d  Kxy_Razack_md  Kxy_Razack_ftd  \n",
      "36               41.73          450.32           0.31            0.09  \n",
      "176             105.64         1140.00           1.57            0.48  \n",
      "632               3.60           38.84           0.03            0.00  \n",
      "831            2311.21        24940.65            NaN             NaN  \n",
      "879              18.62          201.00           0.23            0.07  \n",
      "...                ...             ...            ...             ...  \n",
      "1075388          57.17          617.00           1.44            0.43  \n",
      "1075411           8.24           88.97           0.06            0.02  \n",
      "1075423          47.15          508.83           1.81            0.55  \n",
      "1075442          14.19          153.18           0.13            0.04  \n",
      "1075561          66.39          716.50          25.41            7.74  \n",
      "\n",
      "[34955 rows x 32 columns]\n"
     ]
    }
   ],
   "source": [
    "df1['Tr_Razack_m2d'] =15.3 * ((df1['SpecificCapacity_m'] ** 0.67))\n",
    "df1['Tr_Razack_ft2d'] =33.6 * (((192.5 * df1['SpecificCapacity'])) ** 0.67)\n",
    "\n",
    "# Round down the specified columns to the nearest 2 decimal places\n",
    "df1['Tr_Razack_m2d'] = df1['Tr_Razack_m2d'].apply(lambda x: np.floor(x * 100) / 100)\n",
    "df1['Tr_Razack_ft2d'] = df1['Tr_Razack_ft2d'].apply(lambda x: np.floor(x * 100) / 100)\n",
    "\n",
    "# Estimate of Hydraluic Conductivity using mace approach\n",
    "df1['Kxy_Razack_md'] = df1['Tr_Razack_m2d'] /df1['SaturatedThickness_m']\n",
    "df1['Kxy_Razack_ftd'] = df1['Tr_Razack_m2d'] /df1['SaturatedThickness']\n",
    "\n",
    "# Round down the specified columns to the nearest 2 decimal places\n",
    "df1['Kxy_Razack_md'] = df1['Kxy_Razack_md'].apply(lambda x: np.floor(x * 100) / 100)\n",
    "df1['Kxy_Razack_ftd'] = df1['Kxy_Razack_ftd'].apply(lambda x: np.floor(x * 100) / 100)\n",
    "\n",
    "# Display the DataFrame\n",
    "print(df1)\n"
   ]
  },
  {
   "cell_type": "code",
   "execution_count": 11,
   "metadata": {},
   "outputs": [
    {
     "name": "stdout",
     "output_type": "stream",
     "text": [
      "Transmissivity CSV file saved as 'estimates of Transmissivity.csv'\n"
     ]
    }
   ],
   "source": [
    "# Save the updated DataFrame to a new CSV file\n",
    "output_file = 'estimates of Transmissivity.csv'\n",
    "df1.to_csv(output_file, index=False)\n",
    "\n",
    "print(f\"Transmissivity CSV file saved as '{output_file}'\")"
   ]
  },
  {
   "cell_type": "code",
   "execution_count": null,
   "metadata": {},
   "outputs": [],
   "source": []
  }
 ],
 "metadata": {
  "kernelspec": {
   "display_name": "Python 3 (ipykernel)",
   "language": "python",
   "name": "python3"
  },
  "language_info": {
   "codemirror_mode": {
    "name": "ipython",
    "version": 3
   },
   "file_extension": ".py",
   "mimetype": "text/x-python",
   "name": "python",
   "nbconvert_exporter": "python",
   "pygments_lexer": "ipython3",
   "version": "3.11.5"
  }
 },
 "nbformat": 4,
 "nbformat_minor": 4
}
